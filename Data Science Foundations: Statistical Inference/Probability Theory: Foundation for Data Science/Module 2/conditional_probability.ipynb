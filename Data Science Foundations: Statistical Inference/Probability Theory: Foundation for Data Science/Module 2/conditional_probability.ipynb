{
 "cells": [
  {
   "cell_type": "markdown",
   "metadata": {},
   "source": [
    "Simulation is a great tool for probability problems even when you are trying to compute exact results since it can help you to check your work!"
   ]
  },
  {
   "cell_type": "markdown",
   "metadata": {},
   "source": [
    "# Problem 1"
   ]
  },
  {
   "cell_type": "markdown",
   "metadata": {},
   "source": [
    "Suppose you roll a fair six-sided die two times. Let $A$ be the event \"the sum of the throws equals 5\" and $B$ be the event \"at least one of the throws is a $4$\"."
   ]
  },
  {
   "cell_type": "markdown",
   "metadata": {},
   "source": [
    "**Part a)** \n",
    "\n",
    "By hand, solve for the probability that the sum of the throws equals 5, given that at least one of the throws is a 4. That is, solve $P(A|B)$."
   ]
  },
  {
   "cell_type": "code",
   "execution_count": null,
   "metadata": {},
   "outputs": [],
   "source": [
    "#P(A|B) = (P(A∩B)/P(B))\n",
    "#P(AnB)= 1/18\n",
    "#P(B) = 11/36\n",
    "\n",
    "#P(A|B) = 2/11"
   ]
  },
  {
   "cell_type": "markdown",
   "metadata": {},
   "source": [
    "**Part b)**\n",
    "\n",
    "In the next cell, write a simple simulation to confirm your result. Make sure you run your simulation enough times to be confident in your result. We will get you started but <b>feel free to delete the provided code to use your own approach</b>.\n",
    "\n",
    "Hint: Think about the definition of conditional probability. "
   ]
  },
  {
   "cell_type": "code",
   "execution_count": 2,
   "metadata": {},
   "outputs": [
    {
     "data": {
      "text/html": [
       "0.3299"
      ],
      "text/latex": [
       "0.3299"
      ],
      "text/markdown": [
       "0.3299"
      ],
      "text/plain": [
       "[1] 0.3299"
      ]
     },
     "metadata": {},
     "output_type": "display_data"
    }
   ],
   "source": [
    "# Simulate the rolls\n",
    "set.seed(123) #sets the seed for reproduction\n",
    "\n",
    "#define the bags\n",
    "bag1=c(rep('white', 7), rep('black', 6), rep('gold', 3))\n",
    "bag2=c(rep('white', 4), rep('black', 5), rep('gold', 15))\n",
    "\n",
    "#choose a bag\n",
    "bags= sample(c(1,2), 10000, replace=TRUE, prob=c(2/3, 1/3))\n",
    "\n",
    "#drawing a marble from the bag\n",
    "drawn_marbles=sapply(bags, function(bag){\n",
    "    if(bag==1){\n",
    "        sample(bag1, 1)\n",
    "        }else{\n",
    "        sample(bag2, 1)\n",
    "        }\n",
    "    })\n",
    "\n",
    "#calc the probability of getting a gold marble\n",
    "prob_gold=mean(drawn_marbles =='gold')\n",
    "\n",
    "#print the findings\n",
    "prob_gold"
   ]
  },
  {
   "cell_type": "markdown",
   "metadata": {},
   "source": [
    "<hr>"
   ]
  },
  {
   "cell_type": "markdown",
   "metadata": {},
   "source": [
    "# Problem 2\n",
    "\n",
    "Suppose you have two bags of marbles that are in a box. Bag 1 contains 7 white marbles, 6 black marbles, and 3 gold marbles. Bag 2 contains 4 white marbles, 5 black marbles, and 15 gold marbles. You will reach into the box to pull out a bag. Suppose that, due to the size and shapes of the bags, the probability of grabbing Bag 1 from the box is twice the probability of grabbing Bag 2.\n",
    "\n",
    "If you close your eyes, grab a bag from the box, and then grab a marble from that bag, what is the probability that it is gold?"
   ]
  },
  {
   "cell_type": "markdown",
   "metadata": {},
   "source": [
    "**Part a)** \n",
    "\n",
    "Solve this problem by hand. This should give us a theoretical value for pulling a gold marble."
   ]
  },
  {
   "cell_type": "code",
   "execution_count": null,
   "metadata": {},
   "outputs": [],
   "source": [
    "#Bag 1: 7wht, 6blk, 3gld\n",
    "#Bag 2: 4wth, 5blk, 15gld\n",
    "\n",
    "#P(Bag1)= 2/3\n",
    "#P(Bag2)= 1/3\n",
    "\n",
    "#P(gold|Bag1) = 3/16\n",
    "#P(gold|Bag2) = 5/8\n",
    "\n",
    "#law of probability \n",
    "#P(gold) = ((3/16)*(2/3) + (15/24)*(1/3))\n",
    "#P(gold) = 13/48\n"
   ]
  },
  {
   "cell_type": "markdown",
   "metadata": {},
   "source": [
    "**Part b)**\n",
    "\n",
    "Create a simulation to estimate the probability of pulling a gold marble. Make sure to run the simulation enough times to be confident in your final result!\n",
    "\n",
    "Hint: You can sample one marble from Bag 1 with this line of code\n",
    "\n",
    "<code>sample(c(\"white\",\"black\",\"gold\"),1,prob=c(7/16,6/16,3/16))</code>\n",
    "\n",
    "though you mind find it easier to label white marbles as \"1\", black marbles as \"2\", and gold marbles as \"3\" rather than having to work with strings."
   ]
  },
  {
   "cell_type": "code",
   "execution_count": 6,
   "metadata": {},
   "outputs": [
    {
     "data": {
      "text/html": [
       "0.3299"
      ],
      "text/latex": [
       "0.3299"
      ],
      "text/markdown": [
       "0.3299"
      ],
      "text/plain": [
       "[1] 0.3299"
      ]
     },
     "metadata": {},
     "output_type": "display_data"
    }
   ],
   "source": [
    "#simulate the process\n",
    "set.seed(123) \n",
    "\n",
    "#define bags of marbles  -- use the same code as in problem 1 \n",
    "bag1=c(rep('white', 7), rep('black', 6), rep('gold', 3))\n",
    "bag2=c(rep('white', 4), rep('black', 5), rep('gold', 15))\n",
    "\n",
    "bags=sample(c(1,2), 10000, replace=TRUE, prob=c(2/3, 1/3))\n",
    "\n",
    "drawn_marbles=sapply(bags, function(bag){\n",
    "    if(bag==1){\n",
    "        sample(bag1, 1)\n",
    "    }else{\n",
    "        sample(bag2, 1)\n",
    "    }\n",
    "})\n",
    "prob_gold=mean(drawn_marbles =='gold')\n",
    "prob_gold\n"
   ]
  },
  {
   "cell_type": "code",
   "execution_count": null,
   "metadata": {},
   "outputs": [],
   "source": []
  }
 ],
 "metadata": {
  "kernelspec": {
   "display_name": "R",
   "language": "R",
   "name": "ir"
  }
 },
 "nbformat": 4,
 "nbformat_minor": 4
}
