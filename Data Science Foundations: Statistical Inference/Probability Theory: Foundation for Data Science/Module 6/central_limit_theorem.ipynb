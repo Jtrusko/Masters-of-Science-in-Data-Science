{
 "cells": [
  {
   "cell_type": "markdown",
   "metadata": {},
   "source": [
    "# Problem 1: Central Limit Theorem and Simulation"
   ]
  },
  {
   "cell_type": "markdown",
   "metadata": {},
   "source": [
    "**a)** For this problem, we will be sampling from the Uniform distribution with bounds [0, 100]. Before we simulate anything, let's make sure we understand what values to expect. If $X \\sim U(0, 100)$, what is $E[X]$ and $Var(X)$? Work these answers out on paper so you will have something to compare your simulated results to."
   ]
  },
  {
   "cell_type": "markdown",
   "metadata": {},
   "source": [
    "**b)** In real life, if we want to estimate the mean of a population, we have to draw a sample from that population and compute the sample mean. The important questions we have to ask are things like:\n",
    "\n",
    "* Is the sample mean a good approximation of the population mean?\n",
    "* How large does my sample need to be in order for the sample mean to well-approximate the population mean?\n",
    "\n",
    "Complete the following function to sample $n$ rows from the $U(0, 100)$ distribution and return the sample mean. Start with a sample size of 10 and draw a sample mean from your function. Is the estimated mean a good approximation for the population mean we computed above? What if you increase the sample size?"
   ]
  },
  {
   "cell_type": "code",
   "execution_count": 2,
   "metadata": {},
   "outputs": [
    {
     "data": {
      "text/html": [
       "47.8564982162789"
      ],
      "text/latex": [
       "47.8564982162789"
      ],
      "text/markdown": [
       "47.8564982162789"
      ],
      "text/plain": [
       "[1] 47.8565"
      ]
     },
     "metadata": {},
     "output_type": "display_data"
    }
   ],
   "source": [
    "# Complete and run this cell\n",
    "\n",
    "uniform.sample.mean = function(n){\n",
    "    sample=runif(n, min=0, max=100) #make n samples from U(0, 100)\n",
    "    sample.mean=mean(sample)    \n",
    "    return(sample.mean)\n",
    "}\n",
    "\n",
    "#n=10\n",
    "uniform.sample.mean(10)"
   ]
  },
  {
   "cell_type": "markdown",
   "metadata": {},
   "source": [
    "**c)** Notice, for a sample size of $n$, our function is returning an estimator of the form\n",
    "\n",
    "$$\n",
    "\\bar{X} = \\frac{1}{n}\\sum_{i=1}^n X_i \n",
    "$$\n",
    "\n",
    "That means, if each $X_i$ is a random variable, then our sample mean is also a random variable with its own distribution. We call this disribution the sample distribution. Let's take a look at what this distribution looks like.  \n",
    "\n",
    "Using the `uniform.sample.mean` function, simulate $m=1000$ sample means, each from a sample of size $n=10$. Create a histogram of these sample means. Then increase the value of $n$ and plot the histogram of those sample means. What do you notice about the distribution of $\\bar{X}$? What is the mean $\\mu$ and variance $\\sigma^2$ of the sample distribution?"
   ]
  },
  {
   "cell_type": "code",
   "execution_count": 21,
   "metadata": {},
   "outputs": [
    {
     "data": {
      "image/png": "[encoded data removed]",
      "text/plain": [
       "Plot with title “Sample dist (n=10)”"
      ]
     },
     "metadata": {
      "image/png": {
       "height": 420,
       "width": 420
      },
      "text/plain": {
       "height": 420,
       "width": 420
      }
     },
     "output_type": "display_data"
    },
    {
     "data": {
      "text/html": [
       "'N=10:'"
      ],
      "text/latex": [
       "'N=10:'"
      ],
      "text/markdown": [
       "'N=10:'"
      ],
      "text/plain": [
       "[1] \"N=10:\""
      ]
     },
     "metadata": {},
     "output_type": "display_data"
    },
    {
     "data": {
      "text/html": [
       "'Mean:'"
      ],
      "text/latex": [
       "'Mean:'"
      ],
      "text/markdown": [
       "'Mean:'"
      ],
      "text/plain": [
       "[1] \"Mean:\""
      ]
     },
     "metadata": {},
     "output_type": "display_data"
    },
    {
     "data": {
      "text/html": [
       "49.7549372669915"
      ],
      "text/latex": [
       "49.7549372669915"
      ],
      "text/markdown": [
       "49.7549372669915"
      ],
      "text/plain": [
       "[1] 49.75494"
      ]
     },
     "metadata": {},
     "output_type": "display_data"
    },
    {
     "data": {
      "text/html": [
       "'Variance:'"
      ],
      "text/latex": [
       "'Variance:'"
      ],
      "text/markdown": [
       "'Variance:'"
      ],
      "text/plain": [
       "[1] \"Variance:\""
      ]
     },
     "metadata": {},
     "output_type": "display_data"
    },
    {
     "data": {
      "text/html": [
       "77.8882883042238"
      ],
      "text/latex": [
       "77.8882883042238"
      ],
      "text/markdown": [
       "77.8882883042238"
      ],
      "text/plain": [
       "[1] 77.88829"
      ]
     },
     "metadata": {},
     "output_type": "display_data"
    },
    {
     "data": {
      "text/html": [
       "''"
      ],
      "text/latex": [
       "''"
      ],
      "text/markdown": [
       "''"
      ],
      "text/plain": [
       "[1] \"\""
      ]
     },
     "metadata": {},
     "output_type": "display_data"
    },
    {
     "data": {
      "text/html": [
       "'N=100:'"
      ],
      "text/latex": [
       "'N=100:'"
      ],
      "text/markdown": [
       "'N=100:'"
      ],
      "text/plain": [
       "[1] \"N=100:\""
      ]
     },
     "metadata": {},
     "output_type": "display_data"
    },
    {
     "data": {
      "text/html": [
       "'Mean:'"
      ],
      "text/latex": [
       "'Mean:'"
      ],
      "text/markdown": [
       "'Mean:'"
      ],
      "text/plain": [
       "[1] \"Mean:\""
      ]
     },
     "metadata": {},
     "output_type": "display_data"
    },
    {
     "data": {
      "text/html": [
       "49.9551837030745"
      ],
      "text/latex": [
       "49.9551837030745"
      ],
      "text/markdown": [
       "49.9551837030745"
      ],
      "text/plain": [
       "[1] 49.95518"
      ]
     },
     "metadata": {},
     "output_type": "display_data"
    },
    {
     "data": {
      "text/html": [
       "'Variance:'"
      ],
      "text/latex": [
       "'Variance:'"
      ],
      "text/markdown": [
       "'Variance:'"
      ],
      "text/plain": [
       "[1] \"Variance:\""
      ]
     },
     "metadata": {},
     "output_type": "display_data"
    },
    {
     "data": {
      "text/html": [
       "8.38740467856321"
      ],
      "text/latex": [
       "8.38740467856321"
      ],
      "text/markdown": [
       "8.38740467856321"
      ],
      "text/plain": [
       "[1] 8.387405"
      ]
     },
     "metadata": {},
     "output_type": "display_data"
    },
    {
     "data": {
      "image/png": "[encoded data removed]",
      "text/plain": [
       "Plot with title “Sample dist (n=100)”"
      ]
     },
     "metadata": {
      "image/png": {
       "height": 420,
       "width": 420
      },
      "text/plain": {
       "height": 420,
       "width": 420
      }
     },
     "output_type": "display_data"
    }
   ],
   "source": [
    "# Your Code Here\n",
    "set.seed(123)\n",
    "\n",
    "#set parameters\n",
    "m=1000    #number of samples\n",
    "n1=10\n",
    "n2=100\n",
    "\n",
    "#generate m sample means for n=10\n",
    "means_n10=replicate(m, uniform.sample.mean(n1))\n",
    "hist(means_n10, main=\"Sample dist (n=10)\", xlab='Sample mean')\n",
    "\n",
    "#generate m sample meas for n=100\n",
    "means_n100=replicate(m, uniform.sample.mean(n2))\n",
    "hist(means_n100, main=\"Sample dist (n=100)\", xlab='Sample mean')\n",
    "\n",
    "#calculate mean and variance for n=100\n",
    "mean_n10=mean(means_n10)\n",
    "var_n10=var(means_n10)\n",
    "\n",
    "mean_n100=mean(means_n100)\n",
    "var_n100=var(means_n100)\n",
    "\n",
    "\"N=10:\"; \"Mean:\"; mean_n10; \"Variance:\"; var_n10; \"\";\n",
    "\"N=100:\"; \"Mean:\"; mean_n100; \"Variance:\"; var_n100\n",
    "\n",
    "\n"
   ]
  },
  {
   "cell_type": "markdown",
   "metadata": {},
   "source": [
    "<hr>"
   ]
  },
  {
   "cell_type": "markdown",
   "metadata": {},
   "source": [
    "# Problem 2\n",
    "\n",
    "Let $X$ be a random variable for the face value of a fair $d$-sided die after a single roll. $X$ follows a discrete uniform distribution of the form $\\textrm{unif}\\{1,d\\}$. Below is the mean and variance of $\\textrm{unif}\\{1,d\\}$.\n",
    "\n",
    "$$ E[X] = \\dfrac{1+d}{2} \\qquad Var(X) = \\dfrac{(d- 1 + 1)^2 - 1}{12}$$"
   ]
  },
  {
   "cell_type": "markdown",
   "metadata": {},
   "source": [
    "**a)** Let $\\bar{X}_n$ be the random variable for the mean of $n$ die rolls. Based on the Central Limit Theorem, what distribution does $\\bar{X}_n$ follow when $d=6$?"
   ]
  },
  {
   "cell_type": "markdown",
   "metadata": {},
   "source": [
    "**b)** Generate $n=1000$ die values, with $d=6$. Calculate the running average of your die rolls. In other words, create an array $r$ such that:\n",
    "\n",
    "$$ r[j] = \\sum_{i=1}^j \\dfrac{X_i}{j} $$\n",
    "\n",
    "Finally, plot your running average per the number of iterations. What do you notice?"
   ]
  },
  {
   "cell_type": "code",
   "execution_count": 27,
   "metadata": {},
   "outputs": [
    {
     "data": {
      "image/png": "[encoded data removed]",
      "text/plain": [
       "Plot with title “Running avgs of die rolls”"
      ]
     },
     "metadata": {
      "image/png": {
       "height": 420,
       "width": 420
      },
      "text/plain": {
       "height": 420,
       "width": 420
      }
     },
     "output_type": "display_data"
    }
   ],
   "source": [
    "# Your code here.\n",
    "set.seed(123)\n",
    "\n",
    "#generate 1000 die rolls\n",
    "n=1000\n",
    "die_rolls=sample(1:6, size=n, replace=TRUE)\n",
    "\n",
    "#compute running avg\n",
    "running_avg=cumsum(die_rolls)/1:n\n",
    "\n",
    "#plot the running avgs\n",
    "plot(1:n, running_avg, type='l', col='blue', main='Running avgs of die rolls', xlab='# of rolls', ylab='Avg value')\n",
    "abline(h=3.5, col='red', lty=2)"
   ]
  },
  {
   "cell_type": "code",
   "execution_count": null,
   "metadata": {},
   "outputs": [],
   "source": []
  }
 ],
 "metadata": {
  "kernelspec": {
   "display_name": "R",
   "language": "R",
   "name": "ir"
  }
 },
 "nbformat": 4,
 "nbformat_minor": 4
}
