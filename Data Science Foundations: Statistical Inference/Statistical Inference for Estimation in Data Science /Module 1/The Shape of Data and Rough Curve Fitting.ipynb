{
 "cells": [
  {
   "cell_type": "markdown",
   "metadata": {},
   "source": [
    "# The Shape of Data and Rough Curve Fitting"
   ]
  },
  {
   "cell_type": "markdown",
   "metadata": {},
   "source": [
    "# Read in some data\n",
    "\n",
    "> We've left you some data in a file called \"data1\". Let's check it out!  \n",
    "> We are going to read in some data using the command \"read.table\".   \n",
    "> Because this command reads in data as a \"list\" structure, we will \"unlist it\" and turn it into a vector. The letter \"c\" is used in R to define a vector.  \n",
    "\n",
    "> In the cell below, type  \n",
    "`mydata<-read.table(\"data1\")`  \n",
    "`mydata<-c(unlist(mydata))`\n",
    "\n",
    "Hold down \"Shift\" and press \"Enter\" to run the commands in this jupyter notebook."
   ]
  },
  {
   "cell_type": "code",
   "execution_count": 1,
   "metadata": {},
   "outputs": [],
   "source": [
    "mydata=read.table(\"data1\")\n",
    "mydata=c(unlist(mydata))\n"
   ]
  },
  {
   "cell_type": "markdown",
   "metadata": {},
   "source": [
    "> Let's get some quick and basic measurements from the data.  \n",
    "In the cell below, type  \n",
    "`length(mydata)`  \n",
    "`mean(mydata)`  \n",
    "`var(mydata`)\n",
    "\n",
    ">Run the commands."
   ]
  },
  {
   "cell_type": "code",
   "execution_count": 2,
   "metadata": {},
   "outputs": [
    {
     "data": {
      "text/html": [
       "1000"
      ],
      "text/latex": [
       "1000"
      ],
      "text/markdown": [
       "1000"
      ],
      "text/plain": [
       "[1] 1000"
      ]
     },
     "metadata": {},
     "output_type": "display_data"
    },
    {
     "data": {
      "text/html": [
       "0.3437256722758"
      ],
      "text/latex": [
       "0.3437256722758"
      ],
      "text/markdown": [
       "0.3437256722758"
      ],
      "text/plain": [
       "[1] 0.3437257"
      ]
     },
     "metadata": {},
     "output_type": "display_data"
    },
    {
     "data": {
      "text/html": [
       "0.120213749670276"
      ],
      "text/latex": [
       "0.120213749670276"
      ],
      "text/markdown": [
       "0.120213749670276"
      ],
      "text/plain": [
       "[1] 0.1202137"
      ]
     },
     "metadata": {},
     "output_type": "display_data"
    }
   ],
   "source": [
    "length(mydata)\n",
    "mean(mydata)\n",
    "var(mydata)\n"
   ]
  },
  {
   "cell_type": "markdown",
   "metadata": {},
   "source": [
    "# Making a histogram  \n",
    "\n",
    "> In the cell below, type `hist(mydata)`  \n",
    "\n",
    "> (From this point forward, go ahead and run the commands when you are ready.)\n"
   ]
  },
  {
   "cell_type": "code",
   "execution_count": 3,
   "metadata": {},
   "outputs": [
    {
     "data": {
      "image/png": "[encoded data removed]",
      "text/plain": [
       "Plot with title “Histogram of mydata”"
      ]
     },
     "metadata": {
      "image/png": {
       "height": 420,
       "width": 420
      },
      "text/plain": {
       "height": 420,
       "width": 420
      }
     },
     "output_type": "display_data"
    }
   ],
   "source": [
    "hist(mydata)\n"
   ]
  },
  {
   "cell_type": "markdown",
   "metadata": {},
   "source": [
    "> Great! Now, let's take a little more control in the appearance of the histogram. For example, the default bin width you are seeing is probably 0.5. Lets change it to 0.1. In order to do this, we will have to define the breakpoints as a sequence of numbers.\n",
    "\n",
    "> In the next cell, type \n",
    "\n",
    "`min(mydata)`  \n",
    "`max(mydata)`"
   ]
  },
  {
   "cell_type": "code",
   "execution_count": 4,
   "metadata": {},
   "outputs": [
    {
     "data": {
      "text/html": [
       "0.0007510328"
      ],
      "text/latex": [
       "0.0007510328"
      ],
      "text/markdown": [
       "0.0007510328"
      ],
      "text/plain": [
       "[1] 0.0007510328"
      ]
     },
     "metadata": {},
     "output_type": "display_data"
    },
    {
     "data": {
      "text/html": [
       "3.129895"
      ],
      "text/latex": [
       "3.129895"
      ],
      "text/markdown": [
       "3.129895"
      ],
      "text/plain": [
       "[1] 3.129895"
      ]
     },
     "metadata": {},
     "output_type": "display_data"
    }
   ],
   "source": [
    "min(mydata)\n",
    "max(mydata)"
   ]
  },
  {
   "cell_type": "markdown",
   "metadata": {},
   "source": [
    "> Suppose that your minimum and maximum are 0.0220296 and 3.406938. In what follows, use <b>your</b> actual numbers.\n",
    "\n",
    "> Make a sequence (vector) of bin breaks, each which length 0.1,that will include your minimum and maximum. We will call it \"br\". In the next cell, type `br<-seq(0,3.5,0.1)`\n",
    "\n",
    "> Notice how, in this example, we have used the closest numbers to one decimal place that will fully cover the entire dataset.\n",
    "\n",
    "> We will now remake the histogram. In real life you would go back up to the cell where you made the previous histogram, edit your code and run it there. In order to keep these instructions flowing in a linear way, we will make an entirely new histogram below.\n",
    "\n",
    "> Add this to the cell under your line defining the sequence of breaks.  `hist(mydata,prob=T,breaks=br')`\n",
    "\n",
    "> The \"prob=T\" part will put density on the y-axis as opposed to counts. This will make the histogram bars scale so that the <u>total area in the bar</u> between 0.2 and 0.3 (for example) <u>will be equal to the proportion</u> of values in the data set that are between 0.2 and 0.3. This is important because we are going to try to superimpose a true pdf on the histogram and area under a pdf gives probability."
   ]
  },
  {
   "cell_type": "code",
   "execution_count": 21,
   "metadata": {},
   "outputs": [
    {
     "data": {
      "text/html": [
       "<style>\n",
       ".list-inline {list-style: none; margin:0; padding: 0}\n",
       ".list-inline>li {display: inline-block}\n",
       ".list-inline>li:not(:last-child)::after {content: \"\\00b7\"; padding: 0 .5ex}\n",
       "</style>\n",
       "<ol class=list-inline><li>0</li><li>0.1</li><li>0.2</li><li>0.3</li><li>0.4</li><li>0.5</li><li>0.6</li><li>0.7</li><li>0.8</li><li>0.9</li><li>1</li><li>1.1</li><li>1.2</li><li>1.3</li><li>1.4</li><li>1.5</li><li>1.6</li><li>1.7</li><li>1.8</li><li>1.9</li><li>2</li><li>2.1</li><li>2.2</li><li>2.3</li><li>2.4</li><li>2.5</li><li>2.6</li><li>2.7</li><li>2.8</li><li>2.9</li><li>3</li><li>3.1</li><li>3.2</li><li>3.3</li><li>3.4</li><li>3.5</li></ol>\n"
      ],
      "text/latex": [
       "\\begin{enumerate*}\n",
       "\\item 0\n",
       "\\item 0.1\n",
       "\\item 0.2\n",
       "\\item 0.3\n",
       "\\item 0.4\n",
       "\\item 0.5\n",
       "\\item 0.6\n",
       "\\item 0.7\n",
       "\\item 0.8\n",
       "\\item 0.9\n",
       "\\item 1\n",
       "\\item 1.1\n",
       "\\item 1.2\n",
       "\\item 1.3\n",
       "\\item 1.4\n",
       "\\item 1.5\n",
       "\\item 1.6\n",
       "\\item 1.7\n",
       "\\item 1.8\n",
       "\\item 1.9\n",
       "\\item 2\n",
       "\\item 2.1\n",
       "\\item 2.2\n",
       "\\item 2.3\n",
       "\\item 2.4\n",
       "\\item 2.5\n",
       "\\item 2.6\n",
       "\\item 2.7\n",
       "\\item 2.8\n",
       "\\item 2.9\n",
       "\\item 3\n",
       "\\item 3.1\n",
       "\\item 3.2\n",
       "\\item 3.3\n",
       "\\item 3.4\n",
       "\\item 3.5\n",
       "\\end{enumerate*}\n"
      ],
      "text/markdown": [
       "1. 0\n",
       "2. 0.1\n",
       "3. 0.2\n",
       "4. 0.3\n",
       "5. 0.4\n",
       "6. 0.5\n",
       "7. 0.6\n",
       "8. 0.7\n",
       "9. 0.8\n",
       "10. 0.9\n",
       "11. 1\n",
       "12. 1.1\n",
       "13. 1.2\n",
       "14. 1.3\n",
       "15. 1.4\n",
       "16. 1.5\n",
       "17. 1.6\n",
       "18. 1.7\n",
       "19. 1.8\n",
       "20. 1.9\n",
       "21. 2\n",
       "22. 2.1\n",
       "23. 2.2\n",
       "24. 2.3\n",
       "25. 2.4\n",
       "26. 2.5\n",
       "27. 2.6\n",
       "28. 2.7\n",
       "29. 2.8\n",
       "30. 2.9\n",
       "31. 3\n",
       "32. 3.1\n",
       "33. 3.2\n",
       "34. 3.3\n",
       "35. 3.4\n",
       "36. 3.5\n",
       "\n",
       "\n"
      ],
      "text/plain": [
       " [1] 0.0 0.1 0.2 0.3 0.4 0.5 0.6 0.7 0.8 0.9 1.0 1.1 1.2 1.3 1.4 1.5 1.6 1.7 1.8\n",
       "[20] 1.9 2.0 2.1 2.2 2.3 2.4 2.5 2.6 2.7 2.8 2.9 3.0 3.1 3.2 3.3 3.4 3.5"
      ]
     },
     "metadata": {},
     "output_type": "display_data"
    },
    {
     "data": {
      "image/png": "[encoded data removed]",
      "text/plain": [
       "Plot with title “Histogram of mydata”"
      ]
     },
     "metadata": {
      "image/png": {
       "height": 420,
       "width": 420
      },
      "text/plain": {
       "height": 420,
       "width": 420
      }
     },
     "output_type": "display_data"
    }
   ],
   "source": [
    "br<-seq(0,3.5,0.1) #sequence from 0 to 3.5 using 0.1 as the step\n",
    "br\n",
    "hist(mydata, prob=T, breaks=br)"
   ]
  },
  {
   "cell_type": "markdown",
   "metadata": {},
   "source": [
    "# Superimposing a curve\n",
    "\n",
    "> Is it just us or does this look like an exponential distribution?  \n",
    "> Recall that $\\lambda$, the rate parameter for the exponential distribution is 1 divided by the true mean of the distribution.\n",
    "> Since $\\lambda$ is unknown, we will try to estimate it by using 1 divided by the sample mean.  That is, we will estimate $\\lambda$ with  $\\widehat{\\lambda} = 1/\\overline{X}$.  \n",
    "> In the next cell, define a variable named \"lambdahat\" and set it to be 1 over the sample mean."
   ]
  },
  {
   "cell_type": "code",
   "execution_count": 22,
   "metadata": {},
   "outputs": [],
   "source": [
    "lambdahat=1/mean(mydata)\n"
   ]
  },
  {
   "cell_type": "markdown",
   "metadata": {},
   "source": [
    "> Let's superimpose the exponential density on our histogram using our estimated $\\lambda$. The easiest way to do this is not to make a function but rather a sequence of points where we connect the dots.\n",
    "\n",
    "> Create a sequence of x-values. We'll make them really close together so that out \"dot connecting\" looks smooth.\n",
    "\n",
    "> In the next cell, type. `x<-seq(0,3,0.001)`\n",
    "\n",
    "> Now let's get the pdf values. Add this to the cell. `fx<-lambdahat*exp(-lambdahat*x)`\n",
    "\n",
    "> Go back to the previous cell where you made your last histogram and add the line by typing `lines(x,fx)`.\n"
   ]
  },
  {
   "cell_type": "code",
   "execution_count": 24,
   "metadata": {},
   "outputs": [],
   "source": [
    "x=seq(0, 3.5, 0.001)\n",
    "fx=lambdahat*exp(-lambdahat*x)"
   ]
  },
  {
   "cell_type": "markdown",
   "metadata": {},
   "source": [
    "# A Mystery Data Set\n",
    "\n",
    "> Following the commands at the beginning of this lab. Read in the data set called \"data2\".\n",
    "\n",
    "> Take a look at the shape of the data by making a histogram. Be sure to use \"density\" on the $y$-axis and adjust the breaks to make the histogram look nice to you. (Too few bins and the histogram will look \"chunky\" and will miss a lot of the shape detail. Too many bins can result in some bins being empty while a neighboring bin is very \"spiky\"."
   ]
  },
  {
   "cell_type": "code",
   "execution_count": 29,
   "metadata": {
    "scrolled": true
   },
   "outputs": [
    {
     "data": {
      "image/png": "[encoded data removed]",
      "text/plain": [
       "Plot with title “Histogram with Exponential PDF Overlay”"
      ]
     },
     "metadata": {
      "image/png": {
       "height": 420,
       "width": 420
      },
      "text/plain": {
       "height": 420,
       "width": 420
      }
     },
     "output_type": "display_data"
    }
   ],
   "source": [
    "#Load and flatten data\n",
    "mydata <- read.table(\"data2\")\n",
    "mydata <- c(unlist(mydata))\n",
    "\n",
    "#calc min and max\n",
    "min_val <- min(mydata)\n",
    "max_val <- max(mydata)\n",
    "\n",
    "#Define breakpoints that cover the full range of data\n",
    "br <- seq(floor(min_val * 10) / 10, ceiling(max_val * 10) / 10, 0.1)\n",
    "\n",
    "#Estimate lambda using 1 / mean\n",
    "lambdahat <- 1 / mean(mydata)\n",
    "\n",
    "#Create x-values for the exponential curve\n",
    "x <- seq(min(br), max(br), 0.001)\n",
    "\n",
    "#Compute exponential pdf values\n",
    "fx <- lambdahat * exp(-lambdahat * x)\n",
    "\n",
    "# Create histogram and overlay the exponential curve\n",
    "hist(mydata, prob = TRUE, breaks = br,\n",
    "     main = \"Histogram with Exponential PDF Overlay\",\n",
    "     xlab = \"x\", ylab = \"Density\", col = \"blue\")\n",
    "lines(x, fx, col = \"red\", lwd = 2)"
   ]
  },
  {
   "cell_type": "markdown",
   "metadata": {},
   "source": [
    "> Decide whether this data set looks like an exponential distribution, a normal distribution, or a Pareto distribution. (See your table of distributions for the pdfs.)\n",
    "\n",
    "> Once you have decided on a distribution, superimpose the pdf on the histogram using estimates for the parameter(s) that seem intuitive to you. (Don't worry too much about getting a good fit. We will be able to get a better result later in the course after we learn formal methods for estimating parameters!)"
   ]
  },
  {
   "cell_type": "code",
   "execution_count": null,
   "metadata": {},
   "outputs": [],
   "source": [
    "#exponential, seen above\n"
   ]
  }
 ],
 "metadata": {
  "kernelspec": {
   "display_name": "R",
   "language": "R",
   "name": "ir"
  }
 },
 "nbformat": 4,
 "nbformat_minor": 4
}
