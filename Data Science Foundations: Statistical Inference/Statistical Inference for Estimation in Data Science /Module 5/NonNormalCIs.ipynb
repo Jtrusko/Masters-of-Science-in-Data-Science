{
 "cells": [
  {
   "cell_type": "markdown",
   "metadata": {},
   "source": [
    "# Non-Normal Confidence Intervals in R"
   ]
  },
  {
   "cell_type": "markdown",
   "metadata": {},
   "source": [
    "During the lecture videos, we took a look at how we would construct a confidence interval for the rate parameter $\\lambda$ of an exponential distribution. In particular, we determined how to construct confidence intervals using two different statistics: the mean $\\bar{X}$ and the minimum value.\n",
    "\n",
    "Let's use R to simulate an exponential distribution, and see if our confidence intervals actually work the way we think they do. \n",
    "\n",
    "Start by generating 15 samples from an $Exp(5)$ distribution. To do this, use the `rexp()` function with parameter `rate=5`."
   ]
  },
  {
   "cell_type": "code",
   "execution_count": 4,
   "metadata": {},
   "outputs": [
    {
     "name": "stdout",
     "output_type": "stream",
     "text": [
      " [1] 0.03680732 0.02914135 0.02795905 0.08721373 0.57899371 0.24591241\n",
      " [7] 0.10793657 0.19131350 0.02940920 0.27814703 0.15240597 0.24752071\n",
      "[13] 0.88478684 0.21090863 0.20704879\n"
     ]
    }
   ],
   "source": [
    "#rate=5\n",
    "#set seed for reproducibility\n",
    "set.seed(0)\n",
    "\n",
    "#senerate 15 samples from Exp(5)\n",
    "sample_exp = rexp(n = 15, rate = 5)\n",
    "\n",
    "# Display the sample\n",
    "print(sample_exp)"
   ]
  },
  {
   "cell_type": "markdown",
   "metadata": {},
   "source": [
    "That's a single sample. If we want to look at multiple confidence intervals, we're going to want multiple samples. Let's look at 100 samples in total.\n",
    "\n",
    "We can calculate multiple samples at once, and store them into a matrix using the `matrix()` function. For our matrix, each sample will be a seperate row, and there will be 15 columns because we're generating 10 data points per sample, so our final function call will look like `matrix(rexp(15*100, rate=5), ncol=10)`. Use `set.seed(0)` to make sure you get the same values each time."
   ]
  },
  {
   "cell_type": "code",
   "execution_count": 5,
   "metadata": {},
   "outputs": [
    {
     "data": {
      "text/html": [
       "<table>\n",
       "<caption>A matrix: 6 × 10 of type dbl</caption>\n",
       "<tbody>\n",
       "\t<tr><td>0.37520703</td><td>0.13094933</td><td>0.0673867</td><td>0.11769594</td><td>0.47290305</td><td>0.128378518</td><td>0.05882408</td><td>0.1131731</td><td>0.02121452</td><td>0.01188783</td></tr>\n",
       "\t<tr><td>0.11574249</td><td>0.79178657</td><td>0.2346624</td><td>0.19936259</td><td>0.28705707</td><td>0.007453705</td><td>0.06480203</td><td>0.2640936</td><td>0.04070207</td><td>0.20454518</td></tr>\n",
       "\t<tr><td>0.06034819</td><td>0.14504286</td><td>0.1503085</td><td>0.04700549</td><td>0.21597623</td><td>0.205649381</td><td>0.25845233</td><td>0.2506211</td><td>0.11092828</td><td>0.06025660</td></tr>\n",
       "\t<tr><td>0.25862493</td><td>0.19891116</td><td>0.1028349</td><td>0.40156648</td><td>0.08444849</td><td>0.435754514</td><td>0.64355780</td><td>0.1115659</td><td>0.11892353</td><td>0.19547916</td></tr>\n",
       "\t<tr><td>0.04197332</td><td>0.06188957</td><td>0.2211873</td><td>0.15483755</td><td>0.01793482</td><td>0.221635331</td><td>0.04945285</td><td>0.3143974</td><td>0.96656255</td><td>0.08622643</td></tr>\n",
       "\t<tr><td>0.54607786</td><td>0.22736628</td><td>0.1626736</td><td>0.16740130</td><td>0.35695308</td><td>0.462494325</td><td>0.58197745</td><td>0.0571182</td><td>0.07775735</td><td>0.01041109</td></tr>\n",
       "</tbody>\n",
       "</table>\n"
      ],
      "text/latex": [
       "A matrix: 6 × 10 of type dbl\n",
       "\\begin{tabular}{llllllllll}\n",
       "\t 0.37520703 & 0.13094933 & 0.0673867 & 0.11769594 & 0.47290305 & 0.128378518 & 0.05882408 & 0.1131731 & 0.02121452 & 0.01188783\\\\\n",
       "\t 0.11574249 & 0.79178657 & 0.2346624 & 0.19936259 & 0.28705707 & 0.007453705 & 0.06480203 & 0.2640936 & 0.04070207 & 0.20454518\\\\\n",
       "\t 0.06034819 & 0.14504286 & 0.1503085 & 0.04700549 & 0.21597623 & 0.205649381 & 0.25845233 & 0.2506211 & 0.11092828 & 0.06025660\\\\\n",
       "\t 0.25862493 & 0.19891116 & 0.1028349 & 0.40156648 & 0.08444849 & 0.435754514 & 0.64355780 & 0.1115659 & 0.11892353 & 0.19547916\\\\\n",
       "\t 0.04197332 & 0.06188957 & 0.2211873 & 0.15483755 & 0.01793482 & 0.221635331 & 0.04945285 & 0.3143974 & 0.96656255 & 0.08622643\\\\\n",
       "\t 0.54607786 & 0.22736628 & 0.1626736 & 0.16740130 & 0.35695308 & 0.462494325 & 0.58197745 & 0.0571182 & 0.07775735 & 0.01041109\\\\\n",
       "\\end{tabular}\n"
      ],
      "text/markdown": [
       "\n",
       "A matrix: 6 × 10 of type dbl\n",
       "\n",
       "| 0.37520703 | 0.13094933 | 0.0673867 | 0.11769594 | 0.47290305 | 0.128378518 | 0.05882408 | 0.1131731 | 0.02121452 | 0.01188783 |\n",
       "| 0.11574249 | 0.79178657 | 0.2346624 | 0.19936259 | 0.28705707 | 0.007453705 | 0.06480203 | 0.2640936 | 0.04070207 | 0.20454518 |\n",
       "| 0.06034819 | 0.14504286 | 0.1503085 | 0.04700549 | 0.21597623 | 0.205649381 | 0.25845233 | 0.2506211 | 0.11092828 | 0.06025660 |\n",
       "| 0.25862493 | 0.19891116 | 0.1028349 | 0.40156648 | 0.08444849 | 0.435754514 | 0.64355780 | 0.1115659 | 0.11892353 | 0.19547916 |\n",
       "| 0.04197332 | 0.06188957 | 0.2211873 | 0.15483755 | 0.01793482 | 0.221635331 | 0.04945285 | 0.3143974 | 0.96656255 | 0.08622643 |\n",
       "| 0.54607786 | 0.22736628 | 0.1626736 | 0.16740130 | 0.35695308 | 0.462494325 | 0.58197745 | 0.0571182 | 0.07775735 | 0.01041109 |\n",
       "\n"
      ],
      "text/plain": [
       "     [,1]       [,2]       [,3]      [,4]       [,5]       [,6]       \n",
       "[1,] 0.37520703 0.13094933 0.0673867 0.11769594 0.47290305 0.128378518\n",
       "[2,] 0.11574249 0.79178657 0.2346624 0.19936259 0.28705707 0.007453705\n",
       "[3,] 0.06034819 0.14504286 0.1503085 0.04700549 0.21597623 0.205649381\n",
       "[4,] 0.25862493 0.19891116 0.1028349 0.40156648 0.08444849 0.435754514\n",
       "[5,] 0.04197332 0.06188957 0.2211873 0.15483755 0.01793482 0.221635331\n",
       "[6,] 0.54607786 0.22736628 0.1626736 0.16740130 0.35695308 0.462494325\n",
       "     [,7]       [,8]      [,9]       [,10]     \n",
       "[1,] 0.05882408 0.1131731 0.02121452 0.01188783\n",
       "[2,] 0.06480203 0.2640936 0.04070207 0.20454518\n",
       "[3,] 0.25845233 0.2506211 0.11092828 0.06025660\n",
       "[4,] 0.64355780 0.1115659 0.11892353 0.19547916\n",
       "[5,] 0.04945285 0.3143974 0.96656255 0.08622643\n",
       "[6,] 0.58197745 0.0571182 0.07775735 0.01041109"
      ]
     },
     "metadata": {},
     "output_type": "display_data"
    }
   ],
   "source": [
    "\n",
    "\n",
    "# Generate 100 samples of 10 data points each from Exp(5)\n",
    "data = matrix(rexp(100 * 10, rate = 5), ncol = 10, byrow = TRUE)\n",
    "\n",
    "# View the first few rows of the matrix\n",
    "head(data)"
   ]
  },
  {
   "cell_type": "markdown",
   "metadata": {},
   "source": [
    "##### Let's start by looking at the confidence interval that we made with the mean. From the lectures, we eventually got the equation\n",
    "\n",
    "$$ \\dfrac{\\chi^2_{0.025, 2n}}{2n\\bar{X}} \\le \\lambda \\le \\dfrac{\\chi^2_{0.975, 2n}}{2n\\bar{X}} $$\n",
    "\n",
    "If you don't remember how we got these equations, please go over your notes to make sure you understand. For now, we can use these equations to create our confidence intervals. For the $\\chi^2$ values, we can use the `qchisq()` function with 15*2 degrees of freedom. For the lower bound, want `qchisq(0.025, 30)` and the upper bound we want `qchisq(0.975, 30)`.\n",
    "\n",
    "We want to calculate the upper and lower bounds for each of our samples. We could use a for loop for this, but it would be more efficient to use the `apply()` function. To do that, we will need to define our calculations as functions. Fill in the functions below with the necesary calculations for each bound of the confidence interval."
   ]
  },
  {
   "cell_type": "code",
   "execution_count": 6,
   "metadata": {},
   "outputs": [],
   "source": [
    "#lower bound function for confidence interval using the mean\n",
    "exp.conf.int.lower = function(sample) {\n",
    "  n = length(sample)\n",
    "  xbar = mean(sample)\n",
    "  lower = qchisq(0.025, df = 2 * n) / (2 * n * xbar)\n",
    "  return(lower)\n",
    "}\n",
    "\n",
    "# Upper bound function for confidence interval using the mean\n",
    "exp.conf.int.upper = function(sample) {\n",
    "  n = length(sample)\n",
    "  xbar = mean(sample)\n",
    "  upper = qchisq(0.975, df = 2 * n) / (2 * n * xbar)\n",
    "  return(upper)\n",
    "}"
   ]
  },
  {
   "cell_type": "markdown",
   "metadata": {},
   "source": [
    "Now we have our two functions defined, we can use them to calculate the upper and lower bounds for the entire matrix. We will define the apply function as `apply(data, 1, exp.conf.int.lower)`.\n",
    "* `data` is the variable containing your matrix of samples. It is the data that the function will be applied to.\n",
    "* `1` means we are applying our function to each row of the data. This is the \"margin\" that we apply the function along. If we wanted to apply the function to each column, we would input `2`.\n",
    "* `exp.conf.int.lower` is the function that we will apply to the data.\n",
    "\n",
    "Use this function for both the `exp.conf.int.lower` and `exp.conf.int.upper` functions to get vectors of the numeric upper and lower bounds for each sample."
   ]
  },
  {
   "cell_type": "code",
   "execution_count": 7,
   "metadata": {},
   "outputs": [
    {
     "data": {
      "text/html": [
       "<style>\n",
       ".list-inline {list-style: none; margin:0; padding: 0}\n",
       ".list-inline>li {display: inline-block}\n",
       ".list-inline>li:not(:last-child)::after {content: \"\\00b7\"; padding: 0 .5ex}\n",
       "</style>\n",
       "<ol class=list-inline><li>3.20200608122365</li><li>2.1696552192333</li><li>3.18717524360641</li><li>1.87931617929285</li><li>2.24493017629975</li><li>1.80942319025171</li></ol>\n"
      ],
      "text/latex": [
       "\\begin{enumerate*}\n",
       "\\item 3.20200608122365\n",
       "\\item 2.1696552192333\n",
       "\\item 3.18717524360641\n",
       "\\item 1.87931617929285\n",
       "\\item 2.24493017629975\n",
       "\\item 1.80942319025171\n",
       "\\end{enumerate*}\n"
      ],
      "text/markdown": [
       "1. 3.20200608122365\n",
       "2. 2.1696552192333\n",
       "3. 3.18717524360641\n",
       "4. 1.87931617929285\n",
       "5. 2.24493017629975\n",
       "6. 1.80942319025171\n",
       "\n",
       "\n"
      ],
      "text/plain": [
       "[1] 3.202006 2.169655 3.187175 1.879316 2.244930 1.809423"
      ]
     },
     "metadata": {},
     "output_type": "display_data"
    },
    {
     "data": {
      "text/html": [
       "<style>\n",
       ".list-inline {list-style: none; margin:0; padding: 0}\n",
       ".list-inline>li {display: inline-block}\n",
       ".list-inline>li:not(:last-child)::after {content: \"\\00b7\"; padding: 0 .5ex}\n",
       "</style>\n",
       "<ol class=list-inline><li>11.4079687830261</li><li>7.72995377993922</li><li>11.3551301161804</li><li>6.69554640527595</li><li>7.99814014141845</li><li>6.44653468671324</li></ol>\n"
      ],
      "text/latex": [
       "\\begin{enumerate*}\n",
       "\\item 11.4079687830261\n",
       "\\item 7.72995377993922\n",
       "\\item 11.3551301161804\n",
       "\\item 6.69554640527595\n",
       "\\item 7.99814014141845\n",
       "\\item 6.44653468671324\n",
       "\\end{enumerate*}\n"
      ],
      "text/markdown": [
       "1. 11.4079687830261\n",
       "2. 7.72995377993922\n",
       "3. 11.3551301161804\n",
       "4. 6.69554640527595\n",
       "5. 7.99814014141845\n",
       "6. 6.44653468671324\n",
       "\n",
       "\n"
      ],
      "text/plain": [
       "[1] 11.407969  7.729954 11.355130  6.695546  7.998140  6.446535"
      ]
     },
     "metadata": {},
     "output_type": "display_data"
    }
   ],
   "source": [
    "#Apply the lower and upper bound functions to each sample (row)\n",
    "lower.bounds = apply(data, 1, exp.conf.int.lower)\n",
    "upper.bounds = apply(data, 1, exp.conf.int.upper)\n",
    "\n",
    "#display the first few bounds as a check\n",
    "head(lower.bounds)\n",
    "head(upper.bounds)"
   ]
  },
  {
   "cell_type": "markdown",
   "metadata": {},
   "source": [
    "How many of these confidence intervals contain the true parameter? Recall that you generated your data with a know rate $\\lambda=5$.\n",
    "\n",
    "We can perform an arithmetic comparison between a number and a vector in R, and R is smart enough to perform that operation between that number and each element of that vector. That's a complicated way of saying we can do `lower.bound < 5` and `5 < upper.bound`, and get vectors of boolean values for the \"truth value\" of each element's comparison. In total, want the condition `lower.bound < 5 < upper.bound`, so we can use a logical \"and\" to combine the two boolean vectors.\n",
    "\n",
    "Combining all that, we get `(lower.bound < 5) & (5 < upper.bound)`. This gives us a vector of boolean values, where each boolean is whether or not $\\lambda=5$ was within the confidence interval. To find the total number, we can calculate the sum of this vector. Does this value match the original confidence?"
   ]
  },
  {
   "cell_type": "code",
   "execution_count": 9,
   "metadata": {},
   "outputs": [
    {
     "data": {
      "text/html": [
       "97"
      ],
      "text/latex": [
       "97"
      ],
      "text/markdown": [
       "97"
      ],
      "text/plain": [
       "[1] 97"
      ]
     },
     "metadata": {},
     "output_type": "display_data"
    }
   ],
   "source": [
    "#count how many confidence intervals contain the true rate λ = 5\n",
    "contains_lambda = (lower.bounds < 5) & (5 < upper.bounds)\n",
    "\n",
    "# Sum up the number of TRUEs to get total hits\n",
    "num_containing_lambda = sum(contains_lambda)\n",
    "\n",
    "# Print result\n",
    "num_containing_lambda"
   ]
  },
  {
   "cell_type": "markdown",
   "metadata": {},
   "source": [
    "Great! That's our first confidence interval done! Now let's move to the second confidence interval, which used the minimum value of the sample. Recall from the lectures that the 95% confidence interval was defined as:\n",
    "\n",
    "$$ 0 \\le \\lambda \\le \\dfrac{-ln(0.05)}{nY_n} $$\n",
    "\n",
    "where $Y_n = min(X_1,X_2, \\dots, X_n)$.\n",
    "\n",
    "Let's repeat the process above of defining a function for the bounds. Because we know that the lower bound is 0, we don't have to worry about defining anything for that. Complete the function below to solve for the upper bound of the confidence interval.\n",
    "\n",
    "Note: We defined the lower bound at 0, for simplicity. This doesn't have to be the case. We could have a 95% confidence interval that had a lower bound at a different value, which would cause the upper bound to shift higher, as the confidence interval would have to continue containing 95% of the area."
   ]
  },
  {
   "cell_type": "code",
   "execution_count": 13,
   "metadata": {},
   "outputs": [],
   "source": [
    "ci.upper.bound.min = function(sample){\n",
    "  n = length(sample)\n",
    "  y_n = min(sample)\n",
    "  upper = -log(0.05) / (n * y_n)\n",
    "  return(upper)\n",
    "}\n"
   ]
  },
  {
   "cell_type": "markdown",
   "metadata": {},
   "source": [
    "Again, use the `apply()` function to calculate the upper bound for the confidence intervals of each sample's data. Then compute whether `0 <= 5 <= upper.bound` for each sample. How many times the confidence interval contained the true rate? Does it match the 95% confidence level of the interval?"
   ]
  },
  {
   "cell_type": "code",
   "execution_count": 14,
   "metadata": {
    "scrolled": false
   },
   "outputs": [
    {
     "data": {
      "text/html": [
       "97"
      ],
      "text/latex": [
       "97"
      ],
      "text/markdown": [
       "97"
      ],
      "text/plain": [
       "[1] 97"
      ]
     },
     "metadata": {},
     "output_type": "display_data"
    }
   ],
   "source": [
    "#apply the min-based CI upper bound function to each sample\n",
    "upper.bounds.min = apply(data, 1, ci.upper.bound.min)\n",
    "\n",
    "# Since lower bound is always 0, check if 5 is within [0, upper bound]\n",
    "contains.lambda.min = 5 <= upper.bounds.min\n",
    "\n",
    "# Count how many intervals contain the true lambda = 5\n",
    "num.contains.lambda.min = sum(contains.lambda.min)\n",
    "\n",
    "# Output the result\n",
    "num.contains.lambda.min"
   ]
  },
  {
   "cell_type": "code",
   "execution_count": null,
   "metadata": {},
   "outputs": [],
   "source": []
  }
 ],
 "metadata": {
  "kernelspec": {
   "display_name": "R",
   "language": "R",
   "name": "ir"
  }
 },
 "nbformat": 4,
 "nbformat_minor": 4
}
